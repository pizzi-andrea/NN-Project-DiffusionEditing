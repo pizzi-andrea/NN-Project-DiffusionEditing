{
 "cells": [
  {
   "cell_type": "code",
   "execution_count": null,
   "id": "dde65a68",
   "metadata": {},
   "outputs": [
    {
     "name": "stderr",
     "output_type": "stream",
     "text": [
      "/home/andrea/miniconda3/envs/diffusion/lib/python3.13/site-packages/tqdm/auto.py:21: TqdmWarning: IProgress not found. Please update jupyter and ipywidgets. See https://ipywidgets.readthedocs.io/en/stable/user_install.html\n",
      "  from .autonotebook import tqdm as notebook_tqdm\n"
     ]
    }
   ],
   "source": [
    "from typing import *\n",
    "from datasets import load_dataset\n",
    "from pathlib import Path"
   ]
  },
  {
   "cell_type": "code",
   "execution_count": null,
   "id": "40bf2bfe",
   "metadata": {},
   "outputs": [],
   "source": [
    "from typing import Literal\n",
    "from torch.utils.data import DataLoader, Dataset\n",
    "import torch\n",
    "import open_clip as clip\n",
    "\n",
    "class ClipWrap:\n",
    "\n",
    "    \"\"\"\n",
    "    Wrapper class for OpenClip methods used to improve multi-modal rappresentation\n",
    "    \"\"\"\n",
    "    @staticmethod\n",
    "    def info():\n",
    "        print(clip.list_pretrained())\n",
    "        \n",
    "    def __init__(self,photo_encoder:str, tokenizer:str, precision:str=\"float32\", weights:str|None=None, device:Literal['cpu', 'cuda']=\"cpu\"):\n",
    "        self.precision = precision\n",
    "        self.device = device\n",
    "        \n",
    "        self.encoder, train_arg, val_arg = clip.create_model_and_transforms(\n",
    "            model_name=photo_encoder,\n",
    "            pretrained=weights,\n",
    "            load_weights=True,\n",
    "            device=self.device,\n",
    "            precision=self.precision,\n",
    "            jit=True\n",
    "        )\n",
    "\n",
    "        self.train_arg = train_arg\n",
    "        self.val_arg = val_arg\n",
    "\n",
    "        self.tokenizer = clip.get_tokenizer(tokenizer)\n",
    "        #print(self.encoder)\n",
    "    \n",
    "    def get_transformations(self) -> tuple[Callable, Callable]:\n",
    "        return (self.train_arg, self.val_arg) # type: ignore\n",
    "    \n",
    "    def compute(self, images, prompts):\n",
    "        self.encoder.eval()\n",
    "        \n",
    "        with torch.no_grad():\n",
    "            \n",
    "            # Preprocessing prompts\n",
    "            tokens = self.tokenizer(prompts).to(self.device)\n",
    "            prompts_emb = self.encoder.encode_text(tokens) # type: ignore\n",
    "            prompts = prompts_emb.to(getattr(torch, self.precision)).to(self.device)\n",
    "            \n",
    "            # Preprocessing images\n",
    "            #images = self.val_arg(images)\n",
    "            images  = images.to(getattr(torch, self.precision)).to(self.device)\n",
    "            images_emb = self.encoder.encode_image(images) # type: ignore\n",
    "            \n",
    "            \n",
    "            img_std, img_mean = torch.std_mean(images_emb, dim=-1, keepdim=True)\n",
    "            p_std, p_mean = torch.std_mean(prompts_emb, dim=-1, keepdim=True)\n",
    "\n",
    "            #print(f\"img_emb:{images.shape}\")\n",
    "            #print(f\"prompt_emb:{prompts.shape}\")\n",
    "\n",
    "            images = (images_emb - img_mean)/img_std\n",
    "            prompts = (prompts_emb - p_mean)/p_std\n",
    "\n",
    "            coss = (100.0 * images @ prompts.T).softmax(dim=-1)\n",
    "\n",
    "        return [images_emb, prompts_emb, coss]\n"
   ]
  },
  {
   "cell_type": "code",
   "execution_count": null,
   "id": "1fd3c6ce",
   "metadata": {},
   "outputs": [],
   "source": [
    "class PixSet(Dataset):\n",
    "\n",
    "    def __init__(self, src_dataset:Path|str,size:int, split:Literal['train','val','test'],offset:int=0, transformation:Callable|None = None):\n",
    "        super().__init__()\n",
    "        src_dataset = Path(src_dataset)\n",
    "        self.offset = offset\n",
    "        self.transformation = transformation\n",
    "        if not src_dataset.exists():\n",
    "            raise FileNotFoundError\n",
    "        \n",
    "        self.ds = load_dataset(path=str(src_dataset), split=f'{split}[{offset}:{size}]')\n",
    "        \n",
    "        if offset + size > self.ds.dataset_size:\n",
    "            raise IndexError\n",
    "        \n",
    "    def __len__(self):\n",
    "        return len(self.ds)\n",
    "    \n",
    "    def get_hf_dataset(self):\n",
    "        return self.ds\n",
    "    \n",
    "\n",
    "    def __getitem__(self, index):\n",
    "        record = self.ds[self.offset + index]\n",
    "        \n",
    "     \n",
    "        original = record['original_image']\n",
    "        edited   = record['edited_image']\n",
    "\n",
    "        if self.transformation:\n",
    "            original = self.transformation(original)\n",
    "            edited   = self.transformation(edited)\n",
    "        \n",
    "        sample = {\n",
    "            \"original_image\" : original,\n",
    "            \"original_prompt\" : record['original_prompt'],\n",
    "            \"edit\" : record['edit_prompt'],\n",
    "            \"edited_prompt\": record['edited_prompt'],\n",
    "            \"edited_image\" : edited\n",
    "        }\n",
    "\n",
    "        return sample"
   ]
  },
  {
   "cell_type": "code",
   "execution_count": 5,
   "id": "51521201",
   "metadata": {},
   "outputs": [
    {
     "name": "stdout",
     "output_type": "stream",
     "text": [
      "[('RN50', 'openai'), ('RN50', 'yfcc15m'), ('RN50', 'cc12m'), ('RN101', 'openai'), ('RN101', 'yfcc15m'), ('RN50x4', 'openai'), ('RN50x16', 'openai'), ('RN50x64', 'openai'), ('ViT-B-32', 'openai'), ('ViT-B-32', 'laion400m_e31'), ('ViT-B-32', 'laion400m_e32'), ('ViT-B-32', 'laion2b_e16'), ('ViT-B-32', 'laion2b_s34b_b79k'), ('ViT-B-32', 'datacomp_xl_s13b_b90k'), ('ViT-B-32', 'datacomp_m_s128m_b4k'), ('ViT-B-32', 'commonpool_m_clip_s128m_b4k'), ('ViT-B-32', 'commonpool_m_laion_s128m_b4k'), ('ViT-B-32', 'commonpool_m_image_s128m_b4k'), ('ViT-B-32', 'commonpool_m_text_s128m_b4k'), ('ViT-B-32', 'commonpool_m_basic_s128m_b4k'), ('ViT-B-32', 'commonpool_m_s128m_b4k'), ('ViT-B-32', 'datacomp_s_s13m_b4k'), ('ViT-B-32', 'commonpool_s_clip_s13m_b4k'), ('ViT-B-32', 'commonpool_s_laion_s13m_b4k'), ('ViT-B-32', 'commonpool_s_image_s13m_b4k'), ('ViT-B-32', 'commonpool_s_text_s13m_b4k'), ('ViT-B-32', 'commonpool_s_basic_s13m_b4k'), ('ViT-B-32', 'commonpool_s_s13m_b4k'), ('ViT-B-32', 'metaclip_400m'), ('ViT-B-32', 'metaclip_fullcc'), ('ViT-B-32-256', 'datacomp_s34b_b86k'), ('ViT-B-16', 'openai'), ('ViT-B-16', 'laion400m_e31'), ('ViT-B-16', 'laion400m_e32'), ('ViT-B-16', 'laion2b_s34b_b88k'), ('ViT-B-16', 'datacomp_xl_s13b_b90k'), ('ViT-B-16', 'datacomp_l_s1b_b8k'), ('ViT-B-16', 'commonpool_l_clip_s1b_b8k'), ('ViT-B-16', 'commonpool_l_laion_s1b_b8k'), ('ViT-B-16', 'commonpool_l_image_s1b_b8k'), ('ViT-B-16', 'commonpool_l_text_s1b_b8k'), ('ViT-B-16', 'commonpool_l_basic_s1b_b8k'), ('ViT-B-16', 'commonpool_l_s1b_b8k'), ('ViT-B-16', 'dfn2b'), ('ViT-B-16', 'metaclip_400m'), ('ViT-B-16', 'metaclip_fullcc'), ('ViT-B-16-plus-240', 'laion400m_e31'), ('ViT-B-16-plus-240', 'laion400m_e32'), ('ViT-L-14', 'openai'), ('ViT-L-14', 'laion400m_e31'), ('ViT-L-14', 'laion400m_e32'), ('ViT-L-14', 'laion2b_s32b_b82k'), ('ViT-L-14', 'datacomp_xl_s13b_b90k'), ('ViT-L-14', 'commonpool_xl_clip_s13b_b90k'), ('ViT-L-14', 'commonpool_xl_laion_s13b_b90k'), ('ViT-L-14', 'commonpool_xl_s13b_b90k'), ('ViT-L-14', 'metaclip_400m'), ('ViT-L-14', 'metaclip_fullcc'), ('ViT-L-14', 'dfn2b'), ('ViT-L-14', 'dfn2b_s39b'), ('ViT-L-14-336', 'openai'), ('ViT-H-14', 'laion2b_s32b_b79k'), ('ViT-H-14', 'metaclip_fullcc'), ('ViT-H-14', 'metaclip_altogether'), ('ViT-H-14', 'dfn5b'), ('ViT-H-14-378', 'dfn5b'), ('ViT-g-14', 'laion2b_s12b_b42k'), ('ViT-g-14', 'laion2b_s34b_b88k'), ('ViT-bigG-14', 'laion2b_s39b_b160k'), ('ViT-bigG-14', 'metaclip_fullcc'), ('roberta-ViT-B-32', 'laion2b_s12b_b32k'), ('xlm-roberta-base-ViT-B-32', 'laion5b_s13b_b90k'), ('xlm-roberta-large-ViT-H-14', 'frozen_laion5b_s13b_b90k'), ('convnext_base', 'laion400m_s13b_b51k'), ('convnext_base_w', 'laion2b_s13b_b82k'), ('convnext_base_w', 'laion2b_s13b_b82k_augreg'), ('convnext_base_w', 'laion_aesthetic_s13b_b82k'), ('convnext_base_w_320', 'laion_aesthetic_s13b_b82k'), ('convnext_base_w_320', 'laion_aesthetic_s13b_b82k_augreg'), ('convnext_large_d', 'laion2b_s26b_b102k_augreg'), ('convnext_large_d_320', 'laion2b_s29b_b131k_ft'), ('convnext_large_d_320', 'laion2b_s29b_b131k_ft_soup'), ('convnext_xxlarge', 'laion2b_s34b_b82k_augreg'), ('convnext_xxlarge', 'laion2b_s34b_b82k_augreg_rewind'), ('convnext_xxlarge', 'laion2b_s34b_b82k_augreg_soup'), ('coca_ViT-B-32', 'laion2b_s13b_b90k'), ('coca_ViT-B-32', 'mscoco_finetuned_laion2b_s13b_b90k'), ('coca_ViT-L-14', 'laion2b_s13b_b90k'), ('coca_ViT-L-14', 'mscoco_finetuned_laion2b_s13b_b90k'), ('EVA01-g-14', 'laion400m_s11b_b41k'), ('EVA01-g-14-plus', 'merged2b_s11b_b114k'), ('EVA02-B-16', 'merged2b_s8b_b131k'), ('EVA02-L-14', 'merged2b_s4b_b131k'), ('EVA02-L-14-336', 'merged2b_s6b_b61k'), ('EVA02-E-14', 'laion2b_s4b_b115k'), ('EVA02-E-14-plus', 'laion2b_s9b_b144k'), ('ViT-B-16-SigLIP', 'webli'), ('ViT-B-16-SigLIP-256', 'webli'), ('ViT-B-16-SigLIP-i18n-256', 'webli'), ('ViT-B-16-SigLIP-384', 'webli'), ('ViT-B-16-SigLIP-512', 'webli'), ('ViT-L-16-SigLIP-256', 'webli'), ('ViT-L-16-SigLIP-384', 'webli'), ('ViT-SO400M-14-SigLIP', 'webli'), ('ViT-SO400M-16-SigLIP-i18n-256', 'webli'), ('ViT-SO400M-14-SigLIP-378', 'webli'), ('ViT-SO400M-14-SigLIP-384', 'webli'), ('ViT-B-32-SigLIP2-256', 'webli'), ('ViT-B-16-SigLIP2', 'webli'), ('ViT-B-16-SigLIP2-256', 'webli'), ('ViT-B-16-SigLIP2-384', 'webli'), ('ViT-B-16-SigLIP2-512', 'webli'), ('ViT-L-16-SigLIP2-256', 'webli'), ('ViT-L-16-SigLIP2-384', 'webli'), ('ViT-L-16-SigLIP2-512', 'webli'), ('ViT-SO400M-14-SigLIP2', 'webli'), ('ViT-SO400M-14-SigLIP2-378', 'webli'), ('ViT-SO400M-16-SigLIP2-256', 'webli'), ('ViT-SO400M-16-SigLIP2-384', 'webli'), ('ViT-SO400M-16-SigLIP2-512', 'webli'), ('ViT-gopt-16-SigLIP2-256', 'webli'), ('ViT-gopt-16-SigLIP2-384', 'webli'), ('ViT-L-14-CLIPA', 'datacomp1b'), ('ViT-L-14-CLIPA-336', 'datacomp1b'), ('ViT-H-14-CLIPA', 'datacomp1b'), ('ViT-H-14-CLIPA-336', 'laion2b'), ('ViT-H-14-CLIPA-336', 'datacomp1b'), ('ViT-bigG-14-CLIPA', 'datacomp1b'), ('ViT-bigG-14-CLIPA-336', 'datacomp1b'), ('nllb-clip-base', 'v1'), ('nllb-clip-large', 'v1'), ('nllb-clip-base-siglip', 'v1'), ('nllb-clip-base-siglip', 'mrl'), ('nllb-clip-large-siglip', 'v1'), ('nllb-clip-large-siglip', 'mrl'), ('MobileCLIP-S1', 'datacompdr'), ('MobileCLIP-S2', 'datacompdr'), ('MobileCLIP-B', 'datacompdr'), ('MobileCLIP-B', 'datacompdr_lt'), ('ViTamin-S', 'datacomp1b'), ('ViTamin-S-LTT', 'datacomp1b'), ('ViTamin-B', 'datacomp1b'), ('ViTamin-B-LTT', 'datacomp1b'), ('ViTamin-L', 'datacomp1b'), ('ViTamin-L-256', 'datacomp1b'), ('ViTamin-L-336', 'datacomp1b'), ('ViTamin-L-384', 'datacomp1b'), ('ViTamin-L2', 'datacomp1b'), ('ViTamin-L2-256', 'datacomp1b'), ('ViTamin-L2-336', 'datacomp1b'), ('ViTamin-L2-384', 'datacomp1b'), ('ViTamin-XL-256', 'datacomp1b'), ('ViTamin-XL-336', 'datacomp1b'), ('ViTamin-XL-384', 'datacomp1b'), ('PE-Core-T-16-384', 'meta'), ('PE-Core-S-16-384', 'meta'), ('PE-Core-B-16', 'meta'), ('PE-Core-L-14-336', 'meta'), ('PE-Core-bigG-14-448', 'meta'), ('RN50-quickgelu', 'openai'), ('RN50-quickgelu', 'yfcc15m'), ('RN50-quickgelu', 'cc12m'), ('RN101-quickgelu', 'openai'), ('RN101-quickgelu', 'yfcc15m'), ('RN50x4-quickgelu', 'openai'), ('RN50x16-quickgelu', 'openai'), ('RN50x64-quickgelu', 'openai'), ('ViT-B-32-quickgelu', 'openai'), ('ViT-B-32-quickgelu', 'laion400m_e31'), ('ViT-B-32-quickgelu', 'laion400m_e32'), ('ViT-B-32-quickgelu', 'metaclip_400m'), ('ViT-B-32-quickgelu', 'metaclip_fullcc'), ('ViT-B-16-quickgelu', 'openai'), ('ViT-B-16-quickgelu', 'dfn2b'), ('ViT-B-16-quickgelu', 'metaclip_400m'), ('ViT-B-16-quickgelu', 'metaclip_fullcc'), ('ViT-L-14-quickgelu', 'openai'), ('ViT-L-14-quickgelu', 'metaclip_400m'), ('ViT-L-14-quickgelu', 'metaclip_fullcc'), ('ViT-L-14-quickgelu', 'dfn2b'), ('ViT-L-14-336-quickgelu', 'openai'), ('ViT-H-14-quickgelu', 'metaclip_fullcc'), ('ViT-H-14-quickgelu', 'dfn5b'), ('ViT-H-14-378-quickgelu', 'dfn5b'), ('ViT-bigG-14-quickgelu', 'metaclip_fullcc')]\n"
     ]
    }
   ],
   "source": [
    "PixSet.info()"
   ]
  },
  {
   "cell_type": "code",
   "execution_count": 6,
   "id": "e1344642",
   "metadata": {},
   "outputs": [],
   "source": [
    "embedder = ClipWrap(\"ViT-H-14-378-quickgelu\", \"ViT-H-14-378-quickgelu\", weights=\"dfn5b\", device=\"cuda\")\n",
    "loader = DataLoader( PixSet(\"../../dataset/pixset/\", 16, \"train\", offset=0, transformation=embedder.get_transformations()[1]), batch_size=8, shuffle=True)\n"
   ]
  },
  {
   "cell_type": "code",
   "execution_count": 7,
   "id": "3b7e638d",
   "metadata": {},
   "outputs": [
    {
     "name": "stdout",
     "output_type": "stream",
     "text": [
      "===:(current batch 0):===\n"
     ]
    },
    {
     "name": "stdout",
     "output_type": "stream",
     "text": [
      "===:(current batch 1):===\n"
     ]
    }
   ],
   "source": [
    "embeddings = []\n",
    "for batch, data in enumerate(loader):\n",
    "    print(f\"===:(current batch {batch}):===\")\n",
    "    embeddings.append(embedder.compute(data['original_image'], data['original_prompt']))\n",
    "   "
   ]
  },
  {
   "cell_type": "code",
   "execution_count": 10,
   "id": "c2227be8",
   "metadata": {},
   "outputs": [
    {
     "data": {
      "text/plain": [
       "tensor(0.9862, device='cuda:0')"
      ]
     },
     "execution_count": 10,
     "metadata": {},
     "output_type": "execute_result"
    }
   ],
   "source": [
    "torch.cosine_similarity(embeddings[0][0], embeddings[0][1]).norm()"
   ]
  }
 ],
 "metadata": {
  "kernelspec": {
   "display_name": "diffusion",
   "language": "python",
   "name": "python3"
  },
  "language_info": {
   "codemirror_mode": {
    "name": "ipython",
    "version": 3
   },
   "file_extension": ".py",
   "mimetype": "text/x-python",
   "name": "python",
   "nbconvert_exporter": "python",
   "pygments_lexer": "ipython3",
   "version": "3.13.5"
  }
 },
 "nbformat": 4,
 "nbformat_minor": 5
}
