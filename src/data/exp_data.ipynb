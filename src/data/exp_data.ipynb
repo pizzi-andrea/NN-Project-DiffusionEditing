{
 "cells": [
  {
   "cell_type": "markdown",
   "id": "445874c5",
   "metadata": {
    "vscode": {
     "languageId": "plaintext"
    }
   },
   "source": [
    "# Dataset: Concardia\n",
    "\n",
    "Concadia is a dataset introduced in our paper and contains Wikipedia images with their respective captions, alt descriptions and the broader context the images are situated in. We use this corpus to argue for a clear distinction between descriptions and captions, and show the similarities and differences between the two text forms. We further argue that captions and broader context are an important resource that can inform the generation of descriptions which are very sparse across the Web but absolutely crucial to make images accessible."
   ]
  },
  {
   "cell_type": "code",
   "execution_count": 1,
   "id": "48c77aa2",
   "metadata": {},
   "outputs": [],
   "source": [
    "import pandas as pd\n",
    "import numpy as np\n",
    "from typing import *\n",
    "from matplotlib import pyplot as plt \n",
    "from pathlib import Path\n"
   ]
  },
  {
   "cell_type": "code",
   "execution_count": 2,
   "id": "077f0cbd",
   "metadata": {},
   "outputs": [],
   "source": [
    "def read_meta(file_path:Path|str) -> pd.DataFrame:\n",
    "    file_path = Path(file_path)\n",
    "    if not file_path.exists():\n",
    "        raise FileNotFoundError\n",
    "    js = pd.read_json(file_path)\n",
    "    df = pd.json_normalize(js['images'])\n",
    "    \n",
    "    return df"
   ]
  },
  {
   "cell_type": "code",
   "execution_count": 3,
   "id": "ae6f5a5c",
   "metadata": {},
   "outputs": [
    {
     "data": {
      "application/vnd.microsoft.datawrangler.viewer.v0+json": {
       "columns": [
        {
         "name": "index",
         "rawType": "int64",
         "type": "integer"
        },
        {
         "name": "article_id",
         "rawType": "object",
         "type": "string"
        },
        {
         "name": "filename",
         "rawType": "object",
         "type": "string"
        },
        {
         "name": "orig_filename",
         "rawType": "object",
         "type": "string"
        },
        {
         "name": "split",
         "rawType": "object",
         "type": "string"
        },
        {
         "name": "description.raw",
         "rawType": "object",
         "type": "string"
        },
        {
         "name": "description.tokens",
         "rawType": "object",
         "type": "unknown"
        },
        {
         "name": "caption.raw",
         "rawType": "object",
         "type": "string"
        },
        {
         "name": "caption.tokens",
         "rawType": "object",
         "type": "unknown"
        },
        {
         "name": "context.raw",
         "rawType": "object",
         "type": "string"
        },
        {
         "name": "context.tokens",
         "rawType": "object",
         "type": "unknown"
        }
       ],
       "ref": "054e4968-5dea-41b1-955a-ad8c058eac16",
       "rows": [
        [
         "0",
         "Autism",
         "0.jpg",
         "https://upload.wikimedia.org/wikipedia/commons/thumb/0/0d/Autistic-sweetiepie-boy-with-ducksinarow.jpg/220px-Autistic-sweetiepie-boy-with-ducksinarow.jpg",
         "train",
         "Sleeping boy beside a dozen or so toys arranged in a line",
         "['Sleeping', 'boy', 'beside', 'a', 'dozen', 'or', 'so', 'toys', 'arranged', 'in', 'a', 'line']",
         "A young boy with autism who has arranged his toys in a row",
         "['A', 'young', 'boy', 'with', 'autism', 'who', 'has', 'arranged', 'his', 'toys', 'in', 'a', 'row']",
         " Autistic individuals can display many forms of repetitive or restricted behavior, which the Repetitive Behavior Scale-Revised (RBS-R) categorizes as follows. Stereotyped behaviors: Repetitive movements, such as hand flapping, head rolling, or body rocking.Compulsive behaviors: Time-consuming behaviors intended to reduce anxiety that an individual feels compelled to perform repeatedly or according to rigid rules, such as placing objects in a specific order, checking things, or hand washing.Sameness: Resistance to change; for example, insisting that the furniture not be moved or refusing to be interrupted.Ritualistic behavior: Unvarying pattern of daily activities, such as an unchanging menu or a dressing ritual. This is closely associated with sameness and an independent validation has suggested combining the two factors.Restricted interests: Interests or fixations that are abnormal in theme or intensity of focus, such as preoccupation with a single television program, toy, or game.Self-injury: Behaviors such as eye-poking, skin-picking, hand-biting and head-banging.",
         "['Autistic', 'individuals', 'can', 'display', 'many', 'forms', 'of', 'repetitive', 'or', 'restricted', 'behavior', ',', 'which', 'the', 'Repetitive', 'Behavior', 'Scale-Revised', '(', 'RBS-R', ')', 'categorizes', 'as', 'follows', '.', 'Stereotyped', 'behaviors', ':', 'Repetitive', 'movements', ',', 'such', 'as', 'hand', 'flapping', ',', 'head', 'rolling', ',', 'or', 'body', 'rocking.Compulsive', 'behaviors', ':', 'Time-consuming', 'behaviors', 'intended', 'to', 'reduce', 'anxiety', 'that', 'an', 'individual', 'feels', 'compelled', 'to', 'perform', 'repeatedly', 'or', 'according', 'to', 'rigid', 'rules', ',', 'such', 'as', 'placing', 'objects', 'in', 'a', 'specific', 'order', ',', 'checking', 'things', ',', 'or', 'hand', 'washing.Sameness', ':', 'Resistance', 'to', 'change', ';', 'for', 'example', ',', 'insisting', 'that', 'the', 'furniture', 'not', 'be', 'moved', 'or', 'refusing', 'to', 'be', 'interrupted.Ritualistic', 'behavior', ':', 'Unvarying', 'pattern', 'of', 'daily', 'activities', ',', 'such', 'as', 'an', 'unchanging', 'menu', 'or', 'a', 'dressing', 'ritual', '.', 'This', 'is', 'closely', 'associated', 'with', 'sameness', 'and', 'an', 'independent', 'validation', 'has', 'suggested', 'combining', 'the', 'two', 'factors.Restricted', 'interests', ':', 'Interests', 'or', 'fixations', 'that', 'are', 'abnormal', 'in', 'theme', 'or', 'intensity', 'of', 'focus', ',', 'such', 'as', 'preoccupation', 'with', 'a', 'single', 'television', 'program', ',', 'toy', ',', 'or', 'game.Self-injury', ':', 'Behaviors', 'such', 'as', 'eye-poking', ',', 'skin-picking', ',', 'hand-biting', 'and', 'head-banging', '.']"
        ],
        [
         "1",
         "Autism",
         "1.jpg",
         "https://upload.wikimedia.org/wikipedia/commons/thumb/0/0b/Single_Chromosome_Mutations.svg/220px-Single_Chromosome_Mutations.svg.png",
         "train",
         "Three diagrams of chromosome pairs A, B that are nearly identical. 1: B is missing a segment of A. 2: B has two adjacent copies of a segment of A. 3: B's copy of A's segment is in reverse order.",
         "['Three', 'diagrams', 'of', 'chromosome', 'pairs', 'A', ',', 'B', 'that', 'are', 'nearly', 'identical', '.', '1', ':', 'B', 'is', 'missing', 'a', 'segment', 'of', 'A', '.', '2', ':', 'B', 'has', 'two', 'adjacent', 'copies', 'of', 'a', 'segment', 'of', 'A', '.', '3', ':', 'B', \"'s\", 'copy', 'of', 'A', \"'s\", 'segment', 'is', 'in', 'reverse', 'order', '.']",
         "Deletion (1), duplication (2) and inversion (3) are all chromosome abnormalities that have been implicated in autism.",
         "['Deletion', '(', '1', ')', ',', 'duplication', '(', '2', ')', 'and', 'inversion', '(', '3', ')', 'are', 'all', 'chromosome', 'abnormalities', 'that', 'have', 'been', 'implicated', 'in', 'autism', '.']",
         " Autism has a strong genetic basis, although the genetics of autism are complex and it is unclear whether ASD is explained more by rare mutations with major effects, or by rare multigene interactions of common genetic variants. Complexity arises due to interactions among multiple genes, the environment, and epigenetic factors which do not change DNA sequencing but are heritable and influence gene expression. Many genes have been associated with autism through sequencing the genomes of affected individuals and their parents. Studies of twins suggest that heritability is 0.7 for autism and as high as 0.9 for ASD, and siblings of those with autism are about 25 times more likely to be autistic than the general population. However, most of the mutations that increase autism risk have not been identified. Typically, autism cannot be traced to a Mendelian (single-gene) mutation or to a single chromosome abnormality, and none of the genetic syndromes associated with ASDs have been shown to selectively cause ASD. Numerous candidate genes have been located, with only small effects attributable to any particular gene. Most loci individually explain less than 1% of cases of autism. The large number of autistic individuals with unaffected family members may result from spontaneous structural variationsuch as deletions, duplications or inversions in genetic material during meiosis. Hence, a substantial fraction of autism cases may be traceable to genetic causes that are highly heritable but not inherited: that is, the mutation that causes the autism is not present in the parental genome. Autism may be underdiagnosed in women and girls due to an assumption that it is primarily a male condition, but genetic phenomena such as imprinting and X linkage have the ability to raise the frequency and severity of conditions in males, and theories have been put forward for a genetic reason why males are diagnosed more often, such as the imprinted brain theory and the extreme male brain theory.",
         "['Autism', 'has', 'a', 'strong', 'genetic', 'basis', ',', 'although', 'the', 'genetics', 'of', 'autism', 'are', 'complex', 'and', 'it', 'is', 'unclear', 'whether', 'ASD', 'is', 'explained', 'more', 'by', 'rare', 'mutations', 'with', 'major', 'effects', ',', 'or', 'by', 'rare', 'multigene', 'interactions', 'of', 'common', 'genetic', 'variants', '.', 'Complexity', 'arises', 'due', 'to', 'interactions', 'among', 'multiple', 'genes', ',', 'the', 'environment', ',', 'and', 'epigenetic', 'factors', 'which', 'do', 'not', 'change', 'DNA', 'sequencing', 'but', 'are', 'heritable', 'and', 'influence', 'gene', 'expression', '.', 'Many', 'genes', 'have', 'been', 'associated', 'with', 'autism', 'through', 'sequencing', 'the', 'genomes', 'of', 'affected', 'individuals', 'and', 'their', 'parents', '.', 'Studies', 'of', 'twins', 'suggest', 'that', 'heritability', 'is', '0.7', 'for', 'autism', 'and', 'as', 'high', 'as', '0.9', 'for', 'ASD', ',', 'and', 'siblings', 'of', 'those', 'with', 'autism', 'are', 'about', '25', 'times', 'more', 'likely', 'to', 'be', 'autistic', 'than', 'the', 'general', 'population', '.', 'However', ',', 'most', 'of', 'the', 'mutations', 'that', 'increase', 'autism', 'risk', 'have', 'not', 'been', 'identified', '.', 'Typically', ',', 'autism', 'can', 'not', 'be', 'traced', 'to', 'a', 'Mendelian', '(', 'single-gene', ')', 'mutation', 'or', 'to', 'a', 'single', 'chromosome', 'abnormality', ',', 'and', 'none', 'of', 'the', 'genetic', 'syndromes', 'associated', 'with', 'ASDs', 'have', 'been', 'shown', 'to', 'selectively', 'cause', 'ASD', '.', 'Numerous', 'candidate', 'genes', 'have', 'been', 'located', ',', 'with', 'only', 'small', 'effects', 'attributable', 'to', 'any', 'particular', 'gene', '.', 'Most', 'loci', 'individually', 'explain', 'less', 'than', '1', '%', 'of', 'cases', 'of', 'autism', '.', 'The', 'large', 'number', 'of', 'autistic', 'individuals', 'with', 'unaffected', 'family', 'members', 'may', 'result', 'from', 'spontaneous', 'structural', 'variationsuch', 'as', 'deletions', ',', 'duplications', 'or', 'inversions', 'in', 'genetic', 'material', 'during', 'meiosis', '.', 'Hence', ',', 'a', 'substantial', 'fraction', 'of', 'autism', 'cases', 'may', 'be', 'traceable', 'to', 'genetic', 'causes', 'that', 'are', 'highly', 'heritable', 'but', 'not', 'inherited', ':', 'that', 'is', ',', 'the', 'mutation', 'that', 'causes', 'the', 'autism', 'is', 'not', 'present', 'in', 'the', 'parental', 'genome', '.', 'Autism', 'may', 'be', 'underdiagnosed', 'in', 'women', 'and', 'girls', 'due', 'to', 'an', 'assumption', 'that', 'it', 'is', 'primarily', 'a', 'male', 'condition', ',', 'but', 'genetic', 'phenomena', 'such', 'as', 'imprinting', 'and', 'X', 'linkage', 'have', 'the', 'ability', 'to', 'raise', 'the', 'frequency', 'and', 'severity', 'of', 'conditions', 'in', 'males', ',', 'and', 'theories', 'have', 'been', 'put', 'forward', 'for', 'a', 'genetic', 'reason', 'why', 'males', 'are', 'diagnosed', 'more', 'often', ',', 'such', 'as', 'the', 'imprinted', 'brain', 'theory', 'and', 'the', 'extreme', 'male', 'brain', 'theory', '.']"
        ],
        [
         "2",
         "Autism",
         "2.jpg",
         "https://upload.wikimedia.org/wikipedia/commons/thumb/7/72/Opening_a_window_to_the_autistic_brain.jpg/220px-Opening_a_window_to_the_autistic_brain.jpg",
         "train",
         "A young child points, in front of a woman who smiles and points in the same direction.",
         "['A', 'young', 'child', 'points', ',', 'in', 'front', 'of', 'a', 'woman', 'who', 'smiles', 'and', 'points', 'in', 'the', 'same', 'direction', '.']",
         "A three-year-old with autism points to fish in an aquarium, as part of an experiment on the effect of intensive shared-attention training on language development.",
         "['A', 'three-year-old', 'with', 'autism', 'points', 'to', 'fish', 'in', 'an', 'aquarium', ',', 'as', 'part', 'of', 'an', 'experiment', 'on', 'the', 'effect', 'of', 'intensive', 'shared-attention', 'training', 'on', 'language', 'development', '.']",
         " The main goals when treating children with autism are to lessen associated deficits and family distress, and to increase quality of life and functional independence. In general, higher IQs are correlated with greater responsiveness to treatment and improved treatment outcomes. No single treatment is best and treatment is typically tailored to the child's needs. Families and the educational system are the main resources for treatment. Services should be carried out by behavior analysts, special education teachers, speech pathologists, and licensed psychologists. Studies of interventions have methodological problems that prevent definitive conclusions about efficacy. However, the development of evidence-based interventions has advanced in recent years. Although many psychosocial interventions have some positive evidence, suggesting that some form of treatment is preferable to no treatment, the methodological quality of systematic reviews of these studies has generally been poor, their clinical results are mostly tentative, and there is little evidence for the relative effectiveness of treatment options. Intensive, sustained special education programs and behavior therapy early in life can help children acquire self-care, communication, and job skills, and often improve functioning and decrease symptom severity and maladaptive behaviors; claims that intervention by around age three years is crucial are not substantiated. While medications have not been found to help with core symptoms, they may be used for associated symptoms, such as irritability, inattention, or repetitive behavior patterns.",
         "['The', 'main', 'goals', 'when', 'treating', 'children', 'with', 'autism', 'are', 'to', 'lessen', 'associated', 'deficits', 'and', 'family', 'distress', ',', 'and', 'to', 'increase', 'quality', 'of', 'life', 'and', 'functional', 'independence', '.', 'In', 'general', ',', 'higher', 'IQs', 'are', 'correlated', 'with', 'greater', 'responsiveness', 'to', 'treatment', 'and', 'improved', 'treatment', 'outcomes', '.', 'No', 'single', 'treatment', 'is', 'best', 'and', 'treatment', 'is', 'typically', 'tailored', 'to', 'the', 'child', \"'s\", 'needs', '.', 'Families', 'and', 'the', 'educational', 'system', 'are', 'the', 'main', 'resources', 'for', 'treatment', '.', 'Services', 'should', 'be', 'carried', 'out', 'by', 'behavior', 'analysts', ',', 'special', 'education', 'teachers', ',', 'speech', 'pathologists', ',', 'and', 'licensed', 'psychologists', '.', 'Studies', 'of', 'interventions', 'have', 'methodological', 'problems', 'that', 'prevent', 'definitive', 'conclusions', 'about', 'efficacy', '.', 'However', ',', 'the', 'development', 'of', 'evidence-based', 'interventions', 'has', 'advanced', 'in', 'recent', 'years', '.', 'Although', 'many', 'psychosocial', 'interventions', 'have', 'some', 'positive', 'evidence', ',', 'suggesting', 'that', 'some', 'form', 'of', 'treatment', 'is', 'preferable', 'to', 'no', 'treatment', ',', 'the', 'methodological', 'quality', 'of', 'systematic', 'reviews', 'of', 'these', 'studies', 'has', 'generally', 'been', 'poor', ',', 'their', 'clinical', 'results', 'are', 'mostly', 'tentative', ',', 'and', 'there', 'is', 'little', 'evidence', 'for', 'the', 'relative', 'effectiveness', 'of', 'treatment', 'options', '.', 'Intensive', ',', 'sustained', 'special', 'education', 'programs', 'and', 'behavior', 'therapy', 'early', 'in', 'life', 'can', 'help', 'children', 'acquire', 'self-care', ',', 'communication', ',', 'and', 'job', 'skills', ',', 'and', 'often', 'improve', 'functioning', 'and', 'decrease', 'symptom', 'severity', 'and', 'maladaptive', 'behaviors', ';', 'claims', 'that', 'intervention', 'by', 'around', 'age', 'three', 'years', 'is', 'crucial', 'are', 'not', 'substantiated', '.', 'While', 'medications', 'have', 'not', 'been', 'found', 'to', 'help', 'with', 'core', 'symptoms', ',', 'they', 'may', 'be', 'used', 'for', 'associated', 'symptoms', ',', 'such', 'as', 'irritability', ',', 'inattention', ',', 'or', 'repetitive', 'behavior', 'patterns', '.']"
        ],
        [
         "3",
         "Autism",
         "4.jpg",
         "https://upload.wikimedia.org/wikipedia/commons/thumb/5/57/US-autism-6-17-1996-2007.png/220px-US-autism-6-17-1996-2007.png",
         "train",
         "Bar chart versus time. The graph rises steadily from 1996 to 2007, from about 0.7 to about 5.3. The trend curves slightly upward.",
         "['Bar', 'chart', 'versus', 'time', '.', 'The', 'graph', 'rises', 'steadily', 'from', '1996', 'to', '2007', ',', 'from', 'about', '0.7', 'to', 'about', '5.3', '.', 'The', 'trend', 'curves', 'slightly', 'upward', '.']",
         "Reports of autism cases per 1,000 children grew dramatically in the US from 1996 to 2007. It is unknown how much, if any, growth came from changes in rates of autism.",
         "['Reports', 'of', 'autism', 'cases', 'per', '1,000', 'children', 'grew', 'dramatically', 'in', 'the', 'US', 'from', '1996', 'to', '2007', '.', 'It', 'is', 'unknown', 'how', 'much', ',', 'if', 'any', ',', 'growth', 'came', 'from', 'changes', 'in', 'rates', 'of', 'autism', '.']",
         " Most recent reviews tend to estimate a prevalence of 12 per 1,000 for autism and close to 6 per 1,000 for ASD as of 2007. A 2016 survey in the United States reported a rate of 25 per 1,000 children for ASD. Globally, autism affects an estimated 24.8 million people as of 2015[update], while Asperger syndrome affects a further 37.2 million. In 2012, the NHS estimated that the overall prevalence of autism among adults aged 18 years and over in the UK was 1.1%. Rates of PDD-NOS's has been estimated at 3.7 per 1,000, Asperger syndrome at roughly 0.6 per 1,000, and childhood disintegrative disorder at 0.02 per 1,000. CDC estimates about 1 out of 59 (1.7%) for 2014, an increase from 1 out of every 68 children (1.5%) for 2010.",
         "['Most', 'recent', 'reviews', 'tend', 'to', 'estimate', 'a', 'prevalence', 'of', '12', 'per', '1,000', 'for', 'autism', 'and', 'close', 'to', '6', 'per', '1,000', 'for', 'ASD', 'as', 'of', '2007', '.', 'A', '2016', 'survey', 'in', 'the', 'United', 'States', 'reported', 'a', 'rate', 'of', '25', 'per', '1,000', 'children', 'for', 'ASD', '.', 'Globally', ',', 'autism', 'affects', 'an', 'estimated', '24.8', 'million', 'people', 'as', 'of', '2015', '[', 'update', ']', ',', 'while', 'Asperger', 'syndrome', 'affects', 'a', 'further', '37.2', 'million', '.', 'In', '2012', ',', 'the', 'NHS', 'estimated', 'that', 'the', 'overall', 'prevalence', 'of', 'autism', 'among', 'adults', 'aged', '18', 'years', 'and', 'over', 'in', 'the', 'UK', 'was', '1.1', '%', '.', 'Rates', 'of', 'PDD-NOS', \"'s\", 'has', 'been', 'estimated', 'at', '3.7', 'per', '1,000', ',', 'Asperger', 'syndrome', 'at', 'roughly', '0.6', 'per', '1,000', ',', 'and', 'childhood', 'disintegrative', 'disorder', 'at', '0.02', 'per', '1,000', '.', 'CDC', 'estimates', 'about', '1', 'out', 'of', '59', '(', '1.7', '%', ')', 'for', '2014', ',', 'an', 'increase', 'from', '1', 'out', 'of', 'every', '68', 'children', '(', '1.5', '%', ')', 'for', '2010', '.']"
        ],
        [
         "4",
         "Autism",
         "5.jpg",
         "https://upload.wikimedia.org/wikipedia/commons/thumb/a/af/Leo-Kanner.jpeg/170px-Leo-Kanner.jpeg",
         "train",
         "Balding man in his early 60s in coat and tie, with a serious but slightly smiling expression",
         "['Balding', 'man', 'in', 'his', 'early', '60s', 'in', 'coat', 'and', 'tie', ',', 'with', 'a', 'serious', 'but', 'slightly', 'smiling', 'expression']",
         "Leo Kanner introduced the label early infantile autism in 1943.",
         "['Leo', 'Kanner', 'introduced', 'the', 'label', 'early', 'infantile', 'autism', 'in', '1943', '.']",
         " The word autism first took its modern sense in 1938 when Hans Asperger of the Vienna University Hospital adopted Bleuler's terminology autistic psychopaths in a lecture in German about child psychology. Asperger was investigating an ASD now known as Asperger syndrome, though for various reasons it was not widely recognized as a separate diagnosis until 1981. Leo Kanner of the Johns Hopkins Hospital first used autism in its modern sense in English when he introduced the label early infantile autism in a 1943 report of 11 children with striking behavioral similarities. Almost all the characteristics described in Kanner's first paper on the subject, notably \"autistic aloneness\" and \"insistence on sameness\", are still regarded as typical of the autistic spectrum of disorders. It is not known whether Kanner derived the term independently of Asperger.",
         "['The', 'word', 'autism', 'first', 'took', 'its', 'modern', 'sense', 'in', '1938', 'when', 'Hans', 'Asperger', 'of', 'the', 'Vienna', 'University', 'Hospital', 'adopted', 'Bleuler', \"'s\", 'terminology', 'autistic', 'psychopaths', 'in', 'a', 'lecture', 'in', 'German', 'about', 'child', 'psychology', '.', 'Asperger', 'was', 'investigating', 'an', 'ASD', 'now', 'known', 'as', 'Asperger', 'syndrome', ',', 'though', 'for', 'various', 'reasons', 'it', 'was', 'not', 'widely', 'recognized', 'as', 'a', 'separate', 'diagnosis', 'until', '1981', '.', 'Leo', 'Kanner', 'of', 'the', 'Johns', 'Hopkins', 'Hospital', 'first', 'used', 'autism', 'in', 'its', 'modern', 'sense', 'in', 'English', 'when', 'he', 'introduced', 'the', 'label', 'early', 'infantile', 'autism', 'in', 'a', '1943', 'report', 'of', '11', 'children', 'with', 'striking', 'behavioral', 'similarities', '.', 'Almost', 'all', 'the', 'characteristics', 'described', 'in', 'Kanner', \"'s\", 'first', 'paper', 'on', 'the', 'subject', ',', 'notably', '``', 'autistic', 'aloneness', \"''\", 'and', '``', 'insistence', 'on', 'sameness', \"''\", ',', 'are', 'still', 'regarded', 'as', 'typical', 'of', 'the', 'autistic', 'spectrum', 'of', 'disorders', '.', 'It', 'is', 'not', 'known', 'whether', 'Kanner', 'derived', 'the', 'term', 'independently', 'of', 'Asperger', '.']"
        ]
       ],
       "shape": {
        "columns": 10,
        "rows": 5
       }
      },
      "text/html": [
       "<div>\n",
       "<style scoped>\n",
       "    .dataframe tbody tr th:only-of-type {\n",
       "        vertical-align: middle;\n",
       "    }\n",
       "\n",
       "    .dataframe tbody tr th {\n",
       "        vertical-align: top;\n",
       "    }\n",
       "\n",
       "    .dataframe thead th {\n",
       "        text-align: right;\n",
       "    }\n",
       "</style>\n",
       "<table border=\"1\" class=\"dataframe\">\n",
       "  <thead>\n",
       "    <tr style=\"text-align: right;\">\n",
       "      <th></th>\n",
       "      <th>article_id</th>\n",
       "      <th>filename</th>\n",
       "      <th>orig_filename</th>\n",
       "      <th>split</th>\n",
       "      <th>description.raw</th>\n",
       "      <th>description.tokens</th>\n",
       "      <th>caption.raw</th>\n",
       "      <th>caption.tokens</th>\n",
       "      <th>context.raw</th>\n",
       "      <th>context.tokens</th>\n",
       "    </tr>\n",
       "  </thead>\n",
       "  <tbody>\n",
       "    <tr>\n",
       "      <th>0</th>\n",
       "      <td>Autism</td>\n",
       "      <td>0.jpg</td>\n",
       "      <td>https://upload.wikimedia.org/wikipedia/commons...</td>\n",
       "      <td>train</td>\n",
       "      <td>Sleeping boy beside a dozen or so toys arrange...</td>\n",
       "      <td>[Sleeping, boy, beside, a, dozen, or, so, toys...</td>\n",
       "      <td>A young boy with autism who has arranged his t...</td>\n",
       "      <td>[A, young, boy, with, autism, who, has, arrang...</td>\n",
       "      <td>Autistic individuals can display many forms o...</td>\n",
       "      <td>[Autistic, individuals, can, display, many, fo...</td>\n",
       "    </tr>\n",
       "    <tr>\n",
       "      <th>1</th>\n",
       "      <td>Autism</td>\n",
       "      <td>1.jpg</td>\n",
       "      <td>https://upload.wikimedia.org/wikipedia/commons...</td>\n",
       "      <td>train</td>\n",
       "      <td>Three diagrams of chromosome pairs A, B that a...</td>\n",
       "      <td>[Three, diagrams, of, chromosome, pairs, A, ,,...</td>\n",
       "      <td>Deletion (1), duplication (2) and inversion (3...</td>\n",
       "      <td>[Deletion, (, 1, ), ,, duplication, (, 2, ), a...</td>\n",
       "      <td>Autism has a strong genetic basis, although t...</td>\n",
       "      <td>[Autism, has, a, strong, genetic, basis, ,, al...</td>\n",
       "    </tr>\n",
       "    <tr>\n",
       "      <th>2</th>\n",
       "      <td>Autism</td>\n",
       "      <td>2.jpg</td>\n",
       "      <td>https://upload.wikimedia.org/wikipedia/commons...</td>\n",
       "      <td>train</td>\n",
       "      <td>A young child points, in front of a woman who ...</td>\n",
       "      <td>[A, young, child, points, ,, in, front, of, a,...</td>\n",
       "      <td>A three-year-old with autism points to fish in...</td>\n",
       "      <td>[A, three-year-old, with, autism, points, to, ...</td>\n",
       "      <td>The main goals when treating children with au...</td>\n",
       "      <td>[The, main, goals, when, treating, children, w...</td>\n",
       "    </tr>\n",
       "    <tr>\n",
       "      <th>3</th>\n",
       "      <td>Autism</td>\n",
       "      <td>4.jpg</td>\n",
       "      <td>https://upload.wikimedia.org/wikipedia/commons...</td>\n",
       "      <td>train</td>\n",
       "      <td>Bar chart versus time. The graph rises steadil...</td>\n",
       "      <td>[Bar, chart, versus, time, ., The, graph, rise...</td>\n",
       "      <td>Reports of autism cases per 1,000 children gre...</td>\n",
       "      <td>[Reports, of, autism, cases, per, 1,000, child...</td>\n",
       "      <td>Most recent reviews tend to estimate a preval...</td>\n",
       "      <td>[Most, recent, reviews, tend, to, estimate, a,...</td>\n",
       "    </tr>\n",
       "    <tr>\n",
       "      <th>4</th>\n",
       "      <td>Autism</td>\n",
       "      <td>5.jpg</td>\n",
       "      <td>https://upload.wikimedia.org/wikipedia/commons...</td>\n",
       "      <td>train</td>\n",
       "      <td>Balding man in his early 60s in coat and tie, ...</td>\n",
       "      <td>[Balding, man, in, his, early, 60s, in, coat, ...</td>\n",
       "      <td>Leo Kanner introduced the label early infantil...</td>\n",
       "      <td>[Leo, Kanner, introduced, the, label, early, i...</td>\n",
       "      <td>The word autism first took its modern sense i...</td>\n",
       "      <td>[The, word, autism, first, took, its, modern, ...</td>\n",
       "    </tr>\n",
       "  </tbody>\n",
       "</table>\n",
       "</div>"
      ],
      "text/plain": [
       "  article_id filename                                      orig_filename  \\\n",
       "0     Autism    0.jpg  https://upload.wikimedia.org/wikipedia/commons...   \n",
       "1     Autism    1.jpg  https://upload.wikimedia.org/wikipedia/commons...   \n",
       "2     Autism    2.jpg  https://upload.wikimedia.org/wikipedia/commons...   \n",
       "3     Autism    4.jpg  https://upload.wikimedia.org/wikipedia/commons...   \n",
       "4     Autism    5.jpg  https://upload.wikimedia.org/wikipedia/commons...   \n",
       "\n",
       "   split                                    description.raw  \\\n",
       "0  train  Sleeping boy beside a dozen or so toys arrange...   \n",
       "1  train  Three diagrams of chromosome pairs A, B that a...   \n",
       "2  train  A young child points, in front of a woman who ...   \n",
       "3  train  Bar chart versus time. The graph rises steadil...   \n",
       "4  train  Balding man in his early 60s in coat and tie, ...   \n",
       "\n",
       "                                  description.tokens  \\\n",
       "0  [Sleeping, boy, beside, a, dozen, or, so, toys...   \n",
       "1  [Three, diagrams, of, chromosome, pairs, A, ,,...   \n",
       "2  [A, young, child, points, ,, in, front, of, a,...   \n",
       "3  [Bar, chart, versus, time, ., The, graph, rise...   \n",
       "4  [Balding, man, in, his, early, 60s, in, coat, ...   \n",
       "\n",
       "                                         caption.raw  \\\n",
       "0  A young boy with autism who has arranged his t...   \n",
       "1  Deletion (1), duplication (2) and inversion (3...   \n",
       "2  A three-year-old with autism points to fish in...   \n",
       "3  Reports of autism cases per 1,000 children gre...   \n",
       "4  Leo Kanner introduced the label early infantil...   \n",
       "\n",
       "                                      caption.tokens  \\\n",
       "0  [A, young, boy, with, autism, who, has, arrang...   \n",
       "1  [Deletion, (, 1, ), ,, duplication, (, 2, ), a...   \n",
       "2  [A, three-year-old, with, autism, points, to, ...   \n",
       "3  [Reports, of, autism, cases, per, 1,000, child...   \n",
       "4  [Leo, Kanner, introduced, the, label, early, i...   \n",
       "\n",
       "                                         context.raw  \\\n",
       "0   Autistic individuals can display many forms o...   \n",
       "1   Autism has a strong genetic basis, although t...   \n",
       "2   The main goals when treating children with au...   \n",
       "3   Most recent reviews tend to estimate a preval...   \n",
       "4   The word autism first took its modern sense i...   \n",
       "\n",
       "                                      context.tokens  \n",
       "0  [Autistic, individuals, can, display, many, fo...  \n",
       "1  [Autism, has, a, strong, genetic, basis, ,, al...  \n",
       "2  [The, main, goals, when, treating, children, w...  \n",
       "3  [Most, recent, reviews, tend, to, estimate, a,...  \n",
       "4  [The, word, autism, first, took, its, modern, ...  "
      ]
     },
     "execution_count": 3,
     "metadata": {},
     "output_type": "execute_result"
    }
   ],
   "source": [
    "meta = read_meta(\"../../dataset/meta.json\")\n",
    "meta.head()"
   ]
  },
  {
   "cell_type": "code",
   "execution_count": 5,
   "id": "9cfafe5b",
   "metadata": {},
   "outputs": [
    {
     "data": {
      "text/plain": [
       "969180"
      ]
     },
     "execution_count": 5,
     "metadata": {},
     "output_type": "execute_result"
    }
   ],
   "source": [
    "meta.size"
   ]
  },
  {
   "cell_type": "code",
   "execution_count": 6,
   "id": "5bf8b6f3",
   "metadata": {},
   "outputs": [],
   "source": [
    "from torch.utils.data import Dataset\n",
    "from cv2 import imread\n",
    "class Concadia(Dataset):\n",
    "    def __init__(self, src_dataset:Path|str, src_meta:Path|str, split:Literal['train','val','test']):\n",
    "        super().__init__()\n",
    "        src_dataset = Path(src_dataset)\n",
    "        if not src_dataset.exists():\n",
    "            raise FileNotFoundError\n",
    "        \n",
    "        self.meta = read_meta(src_meta).query(f\"split == '{split}'\")\n",
    "        self.src_dataset = src_dataset\n",
    "\n",
    "    def __len__(self):\n",
    "        return self.meta.size\n",
    "    \n",
    "    def __getitem__(self, index):\n",
    "        record = self.meta.iloc[index]\n",
    "        \n",
    "        img_path = self.src_dataset.joinpath(record['filename'])\n",
    "        img = imread(img_path)\n",
    "       \n",
    "        return (img, record['description.raw'])\n",
    "\n",
    "        \n",
    "\n"
   ]
  },
  {
   "cell_type": "code",
   "execution_count": 8,
   "id": "193652e5",
   "metadata": {},
   "outputs": [],
   "source": [
    "dataset_re = Concadia(\"../../dataset/resized\", \"../../dataset/meta.json\", \"train\")\n",
    "dataset_te = Concadia(\"../../dataset/resized\", \"../../dataset/meta.json\", \"test\")\n",
    "dataset_val = Concadia(\"../../dataset/resized\", \"../../dataset/meta.json\", \"val\")"
   ]
  },
  {
   "cell_type": "code",
   "execution_count": 10,
   "id": "1f69cb81",
   "metadata": {},
   "outputs": [
    {
     "name": "stdout",
     "output_type": "stream",
     "text": [
      "96910\n",
      "775340\n",
      "96930\n"
     ]
    }
   ],
   "source": [
    "print(len(dataset_te))\n",
    "print(len(dataset_re))\n",
    "print(len(dataset_val))"
   ]
  }
 ],
 "metadata": {
  "kernelspec": {
   "display_name": "Neural",
   "language": "python",
   "name": "python3"
  },
  "language_info": {
   "codemirror_mode": {
    "name": "ipython",
    "version": 3
   },
   "file_extension": ".py",
   "mimetype": "text/x-python",
   "name": "python",
   "nbconvert_exporter": "python",
   "pygments_lexer": "ipython3",
   "version": "3.13.0"
  }
 },
 "nbformat": 4,
 "nbformat_minor": 5
}
